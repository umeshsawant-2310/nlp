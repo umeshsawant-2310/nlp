{
 "cells": [
  {
   "cell_type": "markdown",
   "id": "4311c1f7",
   "metadata": {},
   "source": [
    "## Assingment 7(Text Analytics)"
   ]
  },
  {
   "cell_type": "code",
   "execution_count": 1,
   "id": "831eab1f",
   "metadata": {},
   "outputs": [],
   "source": [
    "#!pip install docx2txt\n",
    "import docx2txt as dt\n",
    "import numpy as np\n",
    "import pandas as pd\n",
    "import string\n",
    "import re\n",
    "import nltk\n",
    "#nltk.download('averaged_perceptron_tagger')\n",
    "from nltk.corpus import stopwords\n",
    "from nltk import word_tokenize\n",
    "from nltk import sent_tokenize\n",
    "from nltk.stem.porter import PorterStemmer\n",
    "from nltk.stem import WordNetLemmatizer\n",
    "from nltk import pos_tag\n"
   ]
  },
  {
   "cell_type": "code",
   "execution_count": 2,
   "id": "b56ca27f",
   "metadata": {},
   "outputs": [],
   "source": [
    "stop_words = set(stopwords.words('english'))"
   ]
  },
  {
   "cell_type": "code",
   "execution_count": 3,
   "id": "8e0f93cd",
   "metadata": {},
   "outputs": [],
   "source": [
    "file1=dt.process(\"testdoc2.docx\")"
   ]
  },
  {
   "cell_type": "code",
   "execution_count": 4,
   "id": "f195f4a6",
   "metadata": {},
   "outputs": [],
   "source": [
    "sample_text=file1"
   ]
  },
  {
   "cell_type": "code",
   "execution_count": 5,
   "id": "86a7bf13",
   "metadata": {},
   "outputs": [
    {
     "name": "stdout",
     "output_type": "stream",
     "text": [
      "Between 2016 and 2019, the state forest department under the BJP government had launched ‘Green Maharashtra’ drive with an aim to plant 50 crore trees across the state in the four-year period. In October 2019, the government had claimed it had surpassed the target by planting 33 crore trees in July-September 2019. The Indian Express had found that non-forest agencies — such as gram panchayats — which were tasked with planting trees had not uploaded the mandatory audio-visual proof of the tree plantation drives on the specially created portal.\n",
      "\n",
      "In Pune Revenue Division, it was claimed the gram panchayats planted 1.7 crore saplings; however, no evidence was uploaded for 87 per cent (1.49 crore) saplings. Also, out of the 59 government agencies involved in the drive as many as 38 had not submitted survival reports about the saplings.\n",
      "\n",
      "This year, the targets set by the forest department were comparatively modest. For example, Pune Circle — which comprises three divisions in Pune and Solapur district — had planned to plant 17 lakh saplings on forest land. However, it may not meet the target due to unavailability of funds. Last year Pune Circle planted 70 lakh saplings on forest land.\n",
      "\n",
      "In Pune Division — which comprises six talukas namely Maval, Mulshi, Daund, Indapur, Baramati and Havveli — preparations were done for plantation of about 4 lakh trees with special emphasis on teakwood.\n",
      "\n",
      "The National Forest Policy aims and emphasizes at maintaining 33% of the country’s geographical area under forest and green cover. In view of this and as a part of the 50 crore plantation programme within Maharashtra, the Maharashtra Forest Department aims to plant 4 crore saplings all over the State between 1st to July 7th, 2017 to celebrate ‘Vanmohotsav’.\n",
      "\n",
      " \n",
      "\n",
      "The plantation programme, which was announced in 2016 with the aim of planting 2 crore trees on 1st July 2016 was a resounding success with the final total reported figure of 2.82 crore saplings planted on a single day. To maintain consistency of this platform without affecting its momentum, the Forest Department has set the target of plantation of 4 crore, 13 crore and 33 crore saplings under the mission of 50 crore plantation which shall be accomplished in the three consecutive years viz. 2017, 2018 and 2019.\n",
      "\n",
      " \n",
      "\n",
      "The 4 crore saplings for the year 2017 will be planted during the Vanmohotsav, July 1st to July 7th in a state-wide drive with the involvement of 33 government departments along with Students of Schools and Colleges, NSS, NCC, CSR, NGOs, Railways, National Highways, Defence, NABARD and other stakeholders of Society.\n",
      "\n",
      " \n",
      "\n",
      "In a first of its kind, a 24-hour toll free helpline number 1926 called ‘Hello Forest’ has been set up to provide information regarding plantation, protection and for mass awareness. The Forest Department has created a mobile application called ‘My Plants’ to record details of the plantation such as numbers, species and location into the computer system of the Forest Department. All volunteers at individual, collective and organizational level should download and use this application to record their tree plantation work through the application, which will be operational from 1st July to 7th July. \n",
      "\n",
      " \n",
      "\n",
      "In consonance of the public participation, the Maharashtra Forest Department has initiated the ‘Maharashtra Harit Sena’/ ‘Green Army’ which is a body of dedicated volunteers to participate in the plantation, protection, and activities in forest, wildlife, and related sectors around the year. Individuals and organisations interested in volunteering can register on the Green Army website www.greenarmy.mahaforest.gov.in\n",
      "\n",
      " \n",
      "\n",
      "An integrated drive has been set in place to ensure seamless and successful participation from all stakeholders of society, especially the public.\n"
     ]
    }
   ],
   "source": [
    "print(sample_text)"
   ]
  },
  {
   "cell_type": "markdown",
   "id": "75c848d3",
   "metadata": {},
   "source": [
    "### Text preprocessing"
   ]
  },
  {
   "cell_type": "code",
   "execution_count": 6,
   "id": "0bc647ee",
   "metadata": {},
   "outputs": [],
   "source": [
    "def data_processing(text):\n",
    "    text = text.lower()\n",
    "    text = re.sub(r\"http\\S+|www\\S+https\\S+\", '',text, flags=re.MULTILINE)\n",
    "    text=text.translate(str.maketrans(\"\",\"\",string.punctuation))\n",
    "    text = re.sub(r'\\@w+|\\#','',text)\n",
    "    text = re.sub(r'[^\\w\\s]','',text)\n",
    "    text_tokens = word_tokenize(text)\n",
    "    #filtered_text = [w for w in text_tokens if not w in stop_words]\n",
    "    filtered_text=[]\n",
    "    for w in text_tokens:\n",
    "        if w not in stop_words:\n",
    "            filtered_text.append(w)\n",
    "    \n",
    "    \n",
    "    return filtered_text"
   ]
  },
  {
   "cell_type": "markdown",
   "id": "1d40594f",
   "metadata": {},
   "source": [
    "#### Sentence tokenization"
   ]
  },
  {
   "cell_type": "code",
   "execution_count": 7,
   "id": "e075254e",
   "metadata": {},
   "outputs": [
    {
     "data": {
      "text/plain": [
       "21"
      ]
     },
     "execution_count": 7,
     "metadata": {},
     "output_type": "execute_result"
    }
   ],
   "source": [
    "text_sent = sent_tokenize(sample_text)\n",
    "sent_len=len(text_sent)\n",
    "sent_len"
   ]
  },
  {
   "cell_type": "code",
   "execution_count": 8,
   "id": "38a12a8f",
   "metadata": {},
   "outputs": [
    {
     "data": {
      "text/plain": [
       "'Between 2016 and 2019, the state forest department under the\\xa0BJP\\xa0government had launched ‘Green Maharashtra’ drive with an aim to plant 50 crore trees across the state in the four-year period. In October 2019, the government had claimed it had surpassed the target by planting 33 crore trees in July-September 2019.\\xa0The Indian Express\\xa0had found that non-forest agencies — such as gram panchayats — which were tasked with planting trees had not uploaded the mandatory audio-visual proof of the tree plantation drives on the specially created portal.\\n\\nIn Pune Revenue Division, it was claimed the gram panchayats planted 1.7 crore saplings; however, no evidence was uploaded for 87 per cent (1.49 crore) saplings. Also, out of the 59 government agencies involved in the drive as many as 38 had not submitted survival reports about the saplings.\\n\\nThis year, the targets set by the forest department were comparatively modest. For example, Pune Circle — which comprises three divisions in Pune and Solapur district — had planned to plant 17 lakh saplings on forest land. However, it may not meet the target due to unavailability of funds. Last year Pune Circle planted 70 lakh saplings on forest land.\\n\\nIn Pune Division — which comprises six talukas namely Maval, Mulshi, Daund, Indapur, Baramati and Havveli — preparations were done for plantation of about 4 lakh trees with special emphasis on teakwood.\\n\\nThe National Forest Policy aims and emphasizes at maintaining 33% of the country’s geographical area under forest and green cover. In view of this and as a part of the 50 crore plantation programme within Maharashtra, the Maharashtra Forest Department aims to plant 4 crore saplings all over the State between\\xa01st to July 7th, 2017\\xa0to celebrate\\xa0‘Vanmohotsav’.\\n\\n\\xa0\\n\\nThe plantation programme, which was announced in 2016 with the aim of planting\\xa02 crore trees on 1st\\xa0July 2016 was a resounding success with the final total reported figure of\\xa02.82 crore saplings planted\\xa0on a single day. To maintain consistency of this platform without affecting its momentum, the Forest Department has set the target of plantation of 4 crore, 13 crore and 33 crore saplings under the mission of 50 crore plantation which shall be accomplished in the three consecutive years viz. 2017, 2018 and 2019.\\n\\n\\xa0\\n\\nThe\\xa04 crore\\xa0saplings for the year 2017 will be planted during the Vanmohotsav,\\xa0July 1st to July 7th\\xa0in a state-wide drive\\xa0with the involvement of 33 government departments along with Students of Schools and Colleges, NSS, NCC, CSR, NGOs, Railways, National Highways, Defence, NABARD and other stakeholders of Society.\\n\\n\\xa0\\n\\nIn a first of its kind, a\\xa024-hour\\xa0toll free\\xa0helpline number 1926\\xa0called ‘Hello Forest’ has been set up to provide information regarding plantation, protection and for mass awareness. The Forest Department has created a\\xa0mobile application called ‘My Plants’\\xa0to record details of the plantation such as numbers, species and location into the computer system of the Forest Department. All volunteers at individual, collective and organizational level should download and use this application to record their tree plantation work through the application, which will be operational from 1st\\xa0July to 7th\\xa0July.\\xa0\\n\\n\\xa0\\n\\nIn consonance of the public participation, the Maharashtra Forest Department has initiated the ‘Maharashtra Harit Sena’/ ‘Green Army’ which is a body of dedicated volunteers to participate in the plantation, protection, and activities in forest, wildlife, and related sectors around the year. Individuals and organisations interested in volunteering can register on the Green Army website\\xa0www.greenarmy.mahaforest.gov.in\\n\\n\\xa0\\n\\nAn integrated drive has been set in place to ensure seamless and successful participation from all stakeholders of society, especially the public.'"
      ]
     },
     "execution_count": 8,
     "metadata": {},
     "output_type": "execute_result"
    }
   ],
   "source": [
    "sample_text"
   ]
  },
  {
   "cell_type": "code",
   "execution_count": 9,
   "id": "525221d5",
   "metadata": {},
   "outputs": [],
   "source": [
    "filtered_text=data_processing(sample_text)\n"
   ]
  },
  {
   "cell_type": "code",
   "execution_count": 10,
   "id": "a405f969",
   "metadata": {},
   "outputs": [
    {
     "name": "stdout",
     "output_type": "stream",
     "text": [
      "['2016', '2019', 'state', 'forest', 'department', 'bjp', 'government', 'launched', 'green', 'maharashtra', 'drive', 'aim', 'plant', '50', 'crore', 'trees', 'across', 'state', 'fouryear', 'period', 'october', '2019', 'government', 'claimed', 'surpassed', 'target', 'planting', '33', 'crore', 'trees', 'julyseptember', '2019', 'indian', 'express', 'found', 'nonforest', 'agencies', 'gram', 'panchayats', 'tasked', 'planting', 'trees', 'uploaded', 'mandatory', 'audiovisual', 'proof', 'tree', 'plantation', 'drives', 'specially', 'created', 'portal', 'pune', 'revenue', 'division', 'claimed', 'gram', 'panchayats', 'planted', '17', 'crore', 'saplings', 'however', 'evidence', 'uploaded', '87', 'per', 'cent', '149', 'crore', 'saplings', 'also', '59', 'government', 'agencies', 'involved', 'drive', 'many', '38', 'submitted', 'survival', 'reports', 'saplings', 'year', 'targets', 'set', 'forest', 'department', 'comparatively', 'modest', 'example', 'pune', 'circle', 'comprises', 'three', 'divisions', 'pune', 'solapur', 'district', 'planned', 'plant', '17', 'lakh', 'saplings', 'forest', 'land', 'however', 'may', 'meet', 'target', 'due', 'unavailability', 'funds', 'last', 'year', 'pune', 'circle', 'planted', '70', 'lakh', 'saplings', 'forest', 'land', 'pune', 'division', 'comprises', 'six', 'talukas', 'namely', 'maval', 'mulshi', 'daund', 'indapur', 'baramati', 'havveli', 'preparations', 'done', 'plantation', '4', 'lakh', 'trees', 'special', 'emphasis', 'teakwood', 'national', 'forest', 'policy', 'aims', 'emphasizes', 'maintaining', '33', 'countrys', 'geographical', 'area', 'forest', 'green', 'cover', 'view', 'part', '50', 'crore', 'plantation', 'programme', 'within', 'maharashtra', 'maharashtra', 'forest', 'department', 'aims', 'plant', '4', 'crore', 'saplings', 'state', '1st', 'july', '7th', '2017', 'celebrate', 'vanmohotsav', 'plantation', 'programme', 'announced', '2016', 'aim', 'planting', '2', 'crore', 'trees', '1st', 'july', '2016', 'resounding', 'success', 'final', 'total', 'reported', 'figure', '282', 'crore', 'saplings', 'planted', 'single', 'day', 'maintain', 'consistency', 'platform', 'without', 'affecting', 'momentum', 'forest', 'department', 'set', 'target', 'plantation', '4', 'crore', '13', 'crore', '33', 'crore', 'saplings', 'mission', '50', 'crore', 'plantation', 'shall', 'accomplished', 'three', 'consecutive', 'years', 'viz', '2017', '2018', '2019', '4', 'crore', 'saplings', 'year', '2017', 'planted', 'vanmohotsav', 'july', '1st', 'july', '7th', 'statewide', 'drive', 'involvement', '33', 'government', 'departments', 'along', 'students', 'schools', 'colleges', 'nss', 'ncc', 'csr', 'ngos', 'railways', 'national', 'highways', 'defence', 'nabard', 'stakeholders', 'society', 'first', 'kind', '24hour', 'toll', 'free', 'helpline', 'number', '1926', 'called', 'hello', 'forest', 'set', 'provide', 'information', 'regarding', 'plantation', 'protection', 'mass', 'awareness', 'forest', 'department', 'created', 'mobile', 'application', 'called', 'plants', 'record', 'details', 'plantation', 'numbers', 'species', 'location', 'computer', 'system', 'forest', 'department', 'volunteers', 'individual', 'collective', 'organizational', 'level', 'download', 'use', 'application', 'record', 'tree', 'plantation', 'work', 'application', 'operational', '1st', 'july', '7th', 'july', 'consonance', 'public', 'participation', 'maharashtra', 'forest', 'department', 'initiated', 'maharashtra', 'harit', 'sena', 'green', 'army', 'body', 'dedicated', 'volunteers', 'participate', 'plantation', 'protection', 'activities', 'forest', 'wildlife', 'related', 'sectors', 'around', 'year', 'individuals', 'organisations', 'interested', 'volunteering', 'register', 'green', 'army', 'website', 'wwwgreenarmymahaforestgovin', 'integrated', 'drive', 'set', 'place', 'ensure', 'seamless', 'successful', 'participation', 'stakeholders', 'society', 'especially', 'public']\n"
     ]
    }
   ],
   "source": [
    "print(filtered_text)"
   ]
  },
  {
   "cell_type": "markdown",
   "id": "c5afa016",
   "metadata": {},
   "source": [
    "### Stemming"
   ]
  },
  {
   "cell_type": "code",
   "execution_count": 11,
   "id": "7ffc582c",
   "metadata": {},
   "outputs": [
    {
     "name": "stdout",
     "output_type": "stream",
     "text": [
      "['2016', '2019', 'state', 'forest', 'depart', 'bjp', 'govern', 'launch', 'green', 'maharashtra', 'drive', 'aim', 'plant', '50', 'crore', 'tree', 'across', 'state', 'fouryear', 'period', 'octob', '2019', 'govern', 'claim', 'surpass', 'target', 'plant', '33', 'crore', 'tree', 'julyseptemb', '2019', 'indian', 'express', 'found', 'nonforest', 'agenc', 'gram', 'panchayat', 'task', 'plant', 'tree', 'upload', 'mandatori', 'audiovisu', 'proof', 'tree', 'plantat', 'drive', 'special', 'creat', 'portal', 'pune', 'revenu', 'divis', 'claim', 'gram', 'panchayat', 'plant', '17', 'crore', 'sapl', 'howev', 'evid', 'upload', '87', 'per', 'cent', '149', 'crore', 'sapl', 'also', '59', 'govern', 'agenc', 'involv', 'drive', 'mani', '38', 'submit', 'surviv', 'report', 'sapl', 'year', 'target', 'set', 'forest', 'depart', 'compar', 'modest', 'exampl', 'pune', 'circl', 'compris', 'three', 'divis', 'pune', 'solapur', 'district', 'plan', 'plant', '17', 'lakh', 'sapl', 'forest', 'land', 'howev', 'may', 'meet', 'target', 'due', 'unavail', 'fund', 'last', 'year', 'pune', 'circl', 'plant', '70', 'lakh', 'sapl', 'forest', 'land', 'pune', 'divis', 'compris', 'six', 'taluka', 'name', 'maval', 'mulshi', 'daund', 'indapur', 'baramati', 'havv', 'prepar', 'done', 'plantat', '4', 'lakh', 'tree', 'special', 'emphasi', 'teakwood', 'nation', 'forest', 'polici', 'aim', 'emphas', 'maintain', '33', 'countri', 'geograph', 'area', 'forest', 'green', 'cover', 'view', 'part', '50', 'crore', 'plantat', 'programm', 'within', 'maharashtra', 'maharashtra', 'forest', 'depart', 'aim', 'plant', '4', 'crore', 'sapl', 'state', '1st', 'juli', '7th', '2017', 'celebr', 'vanmohotsav', 'plantat', 'programm', 'announc', '2016', 'aim', 'plant', '2', 'crore', 'tree', '1st', 'juli', '2016', 'resound', 'success', 'final', 'total', 'report', 'figur', '282', 'crore', 'sapl', 'plant', 'singl', 'day', 'maintain', 'consist', 'platform', 'without', 'affect', 'momentum', 'forest', 'depart', 'set', 'target', 'plantat', '4', 'crore', '13', 'crore', '33', 'crore', 'sapl', 'mission', '50', 'crore', 'plantat', 'shall', 'accomplish', 'three', 'consecut', 'year', 'viz', '2017', '2018', '2019', '4', 'crore', 'sapl', 'year', '2017', 'plant', 'vanmohotsav', 'juli', '1st', 'juli', '7th', 'statewid', 'drive', 'involv', '33', 'govern', 'depart', 'along', 'student', 'school', 'colleg', 'nss', 'ncc', 'csr', 'ngo', 'railway', 'nation', 'highway', 'defenc', 'nabard', 'stakehold', 'societi', 'first', 'kind', '24hour', 'toll', 'free', 'helplin', 'number', '1926', 'call', 'hello', 'forest', 'set', 'provid', 'inform', 'regard', 'plantat', 'protect', 'mass', 'awar', 'forest', 'depart', 'creat', 'mobil', 'applic', 'call', 'plant', 'record', 'detail', 'plantat', 'number', 'speci', 'locat', 'comput', 'system', 'forest', 'depart', 'volunt', 'individu', 'collect', 'organiz', 'level', 'download', 'use', 'applic', 'record', 'tree', 'plantat', 'work', 'applic', 'oper', '1st', 'juli', '7th', 'juli', 'conson', 'public', 'particip', 'maharashtra', 'forest', 'depart', 'initi', 'maharashtra', 'harit', 'sena', 'green', 'armi', 'bodi', 'dedic', 'volunt', 'particip', 'plantat', 'protect', 'activ', 'forest', 'wildlif', 'relat', 'sector', 'around', 'year', 'individu', 'organis', 'interest', 'volunt', 'regist', 'green', 'armi', 'websit', 'wwwgreenarmymahaforestgovin', 'integr', 'drive', 'set', 'place', 'ensur', 'seamless', 'success', 'particip', 'stakehold', 'societi', 'especi', 'public']\n"
     ]
    }
   ],
   "source": [
    "ps=PorterStemmer()\n",
    "stemmed_words=[]\n",
    "#stemmed_words=[ps.stem(w) for w in filtered_text]\n",
    "#print(stemmed_words)\n",
    "for w in filtered_text:\n",
    "    stemmed_words.append(ps.stem(w))  \n",
    "print(stemmed_words)\n",
    "    "
   ]
  },
  {
   "cell_type": "markdown",
   "id": "399d589f",
   "metadata": {},
   "source": [
    "### lemmatization"
   ]
  },
  {
   "cell_type": "code",
   "execution_count": 12,
   "id": "f775825c",
   "metadata": {},
   "outputs": [
    {
     "name": "stdout",
     "output_type": "stream",
     "text": [
      "['2016', '2019', 'state', 'forest', 'department', 'bjp', 'government', 'launched', 'green', 'maharashtra', 'drive', 'aim', 'plant', '50', 'crore', 'tree', 'across', 'state', 'fouryear', 'period', 'october', '2019', 'government', 'claimed', 'surpassed', 'target', 'planting', '33', 'crore', 'tree', 'julyseptember', '2019', 'indian', 'express', 'found', 'nonforest', 'agency', 'gram', 'panchayat', 'tasked', 'planting', 'tree', 'uploaded', 'mandatory', 'audiovisual', 'proof', 'tree', 'plantation', 'drive', 'specially', 'created', 'portal', 'pune', 'revenue', 'division', 'claimed', 'gram', 'panchayat', 'planted', '17', 'crore', 'sapling', 'however', 'evidence', 'uploaded', '87', 'per', 'cent', '149', 'crore', 'sapling', 'also', '59', 'government', 'agency', 'involved', 'drive', 'many', '38', 'submitted', 'survival', 'report', 'sapling', 'year', 'target', 'set', 'forest', 'department', 'comparatively', 'modest', 'example', 'pune', 'circle', 'comprises', 'three', 'division', 'pune', 'solapur', 'district', 'planned', 'plant', '17', 'lakh', 'sapling', 'forest', 'land', 'however', 'may', 'meet', 'target', 'due', 'unavailability', 'fund', 'last', 'year', 'pune', 'circle', 'planted', '70', 'lakh', 'sapling', 'forest', 'land', 'pune', 'division', 'comprises', 'six', 'talukas', 'namely', 'maval', 'mulshi', 'daund', 'indapur', 'baramati', 'havveli', 'preparation', 'done', 'plantation', '4', 'lakh', 'tree', 'special', 'emphasis', 'teakwood', 'national', 'forest', 'policy', 'aim', 'emphasizes', 'maintaining', '33', 'country', 'geographical', 'area', 'forest', 'green', 'cover', 'view', 'part', '50', 'crore', 'plantation', 'programme', 'within', 'maharashtra', 'maharashtra', 'forest', 'department', 'aim', 'plant', '4', 'crore', 'sapling', 'state', '1st', 'july', '7th', '2017', 'celebrate', 'vanmohotsav', 'plantation', 'programme', 'announced', '2016', 'aim', 'planting', '2', 'crore', 'tree', '1st', 'july', '2016', 'resounding', 'success', 'final', 'total', 'reported', 'figure', '282', 'crore', 'sapling', 'planted', 'single', 'day', 'maintain', 'consistency', 'platform', 'without', 'affecting', 'momentum', 'forest', 'department', 'set', 'target', 'plantation', '4', 'crore', '13', 'crore', '33', 'crore', 'sapling', 'mission', '50', 'crore', 'plantation', 'shall', 'accomplished', 'three', 'consecutive', 'year', 'viz', '2017', '2018', '2019', '4', 'crore', 'sapling', 'year', '2017', 'planted', 'vanmohotsav', 'july', '1st', 'july', '7th', 'statewide', 'drive', 'involvement', '33', 'government', 'department', 'along', 'student', 'school', 'college', 'n', 'ncc', 'csr', 'ngo', 'railway', 'national', 'highway', 'defence', 'nabard', 'stakeholder', 'society', 'first', 'kind', '24hour', 'toll', 'free', 'helpline', 'number', '1926', 'called', 'hello', 'forest', 'set', 'provide', 'information', 'regarding', 'plantation', 'protection', 'mass', 'awareness', 'forest', 'department', 'created', 'mobile', 'application', 'called', 'plant', 'record', 'detail', 'plantation', 'number', 'specie', 'location', 'computer', 'system', 'forest', 'department', 'volunteer', 'individual', 'collective', 'organizational', 'level', 'download', 'use', 'application', 'record', 'tree', 'plantation', 'work', 'application', 'operational', '1st', 'july', '7th', 'july', 'consonance', 'public', 'participation', 'maharashtra', 'forest', 'department', 'initiated', 'maharashtra', 'harit', 'sena', 'green', 'army', 'body', 'dedicated', 'volunteer', 'participate', 'plantation', 'protection', 'activity', 'forest', 'wildlife', 'related', 'sector', 'around', 'year', 'individual', 'organisation', 'interested', 'volunteering', 'register', 'green', 'army', 'website', 'wwwgreenarmymahaforestgovin', 'integrated', 'drive', 'set', 'place', 'ensure', 'seamless', 'successful', 'participation', 'stakeholder', 'society', 'especially', 'public']\n"
     ]
    }
   ],
   "source": [
    "lm= WordNetLemmatizer()\n",
    "lemmatized = [lm.lemmatize(word) for word in filtered_text]\n",
    "print(lemmatized)\n"
   ]
  },
  {
   "cell_type": "markdown",
   "id": "bbaa78d0",
   "metadata": {},
   "source": [
    "### POS Tagging"
   ]
  },
  {
   "cell_type": "code",
   "execution_count": 13,
   "id": "d6ef05e6",
   "metadata": {},
   "outputs": [
    {
     "name": "stdout",
     "output_type": "stream",
     "text": [
      "[('2016', 'CD'), ('2019', 'CD'), ('state', 'NN'), ('forest', 'JJS'), ('department', 'NN'), ('bjp', 'NN'), ('government', 'NN'), ('launched', 'VBD'), ('green', 'JJ'), ('maharashtra', 'JJ'), ('drive', 'NN'), ('aim', 'NN'), ('plant', 'NN'), ('50', 'CD'), ('crore', 'NN'), ('tree', 'NN'), ('across', 'IN'), ('state', 'NN'), ('fouryear', 'JJ'), ('period', 'NN'), ('october', 'IN'), ('2019', 'CD'), ('government', 'NN'), ('claimed', 'VBD'), ('surpassed', 'JJ'), ('target', 'NN'), ('planting', 'VBG'), ('33', 'CD'), ('crore', 'NN'), ('tree', 'NN'), ('julyseptember', 'NN'), ('2019', 'CD'), ('indian', 'JJ'), ('express', 'NN'), ('found', 'VBD'), ('nonforest', 'JJS'), ('agency', 'NN'), ('gram', 'NN'), ('panchayat', 'NN'), ('tasked', 'VBD'), ('planting', 'VBG'), ('tree', 'NN'), ('uploaded', 'VBD'), ('mandatory', 'JJ'), ('audiovisual', 'JJ'), ('proof', 'NN'), ('tree', 'JJ'), ('plantation', 'NN'), ('drive', 'NN'), ('specially', 'RB'), ('created', 'VBD'), ('portal', 'JJ'), ('pune', 'NN'), ('revenue', 'NN'), ('division', 'NN'), ('claimed', 'VBD'), ('gram', 'JJ'), ('panchayat', 'NN'), ('planted', 'VBD'), ('17', 'CD'), ('crore', 'NN'), ('sapling', 'VBG'), ('however', 'RB'), ('evidence', 'NN'), ('uploaded', 'VBD'), ('87', 'CD'), ('per', 'IN'), ('cent', 'NN'), ('149', 'CD'), ('crore', 'NN'), ('sapling', 'NN'), ('also', 'RB'), ('59', 'CD'), ('government', 'NN'), ('agency', 'NN'), ('involved', 'VBD'), ('drive', 'JJ'), ('many', 'JJ'), ('38', 'CD'), ('submitted', 'VBD'), ('survival', 'JJ'), ('report', 'NN'), ('sapling', 'VBG'), ('year', 'NN'), ('target', 'NN'), ('set', 'VBN'), ('forest', 'JJS'), ('department', 'NN'), ('comparatively', 'RB'), ('modest', 'JJ'), ('example', 'NN'), ('pune', 'JJ'), ('circle', 'NN'), ('comprises', 'NNS'), ('three', 'CD'), ('division', 'NN'), ('pune', 'NN'), ('solapur', 'VBD'), ('district', 'NN'), ('planned', 'VBN'), ('plant', 'NN'), ('17', 'CD'), ('lakh', 'NN'), ('sapling', 'VBG'), ('forest', 'JJS'), ('land', 'NN'), ('however', 'RB'), ('may', 'MD'), ('meet', 'VB'), ('target', 'NN'), ('due', 'JJ'), ('unavailability', 'NN'), ('fund', 'NN'), ('last', 'JJ'), ('year', 'NN'), ('pune', 'VBD'), ('circle', 'NN'), ('planted', 'VBD'), ('70', 'CD'), ('lakh', 'NN'), ('sapling', 'VBG'), ('forest', 'JJS'), ('land', 'NN'), ('pune', 'NN'), ('division', 'NN'), ('comprises', 'VBZ'), ('six', 'CD'), ('talukas', 'NN'), ('namely', 'RB'), ('maval', 'JJ'), ('mulshi', 'NN'), ('daund', 'NN'), ('indapur', 'NN'), ('baramati', 'NN'), ('havveli', 'JJ'), ('preparation', 'NN'), ('done', 'VBN'), ('plantation', 'NN'), ('4', 'CD'), ('lakh', 'NN'), ('tree', 'NN'), ('special', 'JJ'), ('emphasis', 'NN'), ('teakwood', 'VBD'), ('national', 'JJ'), ('forest', 'NN'), ('policy', 'NN'), ('aim', 'NN'), ('emphasizes', 'VBZ'), ('maintaining', 'VBG'), ('33', 'CD'), ('country', 'NN'), ('geographical', 'JJ'), ('area', 'NN'), ('forest', 'JJS'), ('green', 'JJ'), ('cover', 'NN'), ('view', 'NN'), ('part', 'NN'), ('50', 'CD'), ('crore', 'NN'), ('plantation', 'NN'), ('programme', 'NN'), ('within', 'IN'), ('maharashtra', 'JJ'), ('maharashtra', 'JJ'), ('forest', 'JJS'), ('department', 'NN'), ('aim', 'NN'), ('plant', 'NN'), ('4', 'CD'), ('crore', 'NN'), ('sapling', 'VBG'), ('state', 'NN'), ('1st', 'CD'), ('july', 'NN'), ('7th', 'CD'), ('2017', 'CD'), ('celebrate', 'NN'), ('vanmohotsav', 'NN'), ('plantation', 'NN'), ('programme', 'NN'), ('announced', 'VBD'), ('2016', 'CD'), ('aim', 'NN'), ('planting', 'VBG'), ('2', 'CD'), ('crore', 'NN'), ('tree', 'NN'), ('1st', 'CD'), ('july', 'NN'), ('2016', 'CD'), ('resounding', 'VBG'), ('success', 'NN'), ('final', 'JJ'), ('total', 'NN'), ('reported', 'VBD'), ('figure', 'NN'), ('282', 'CD'), ('crore', 'NN'), ('sapling', 'NN'), ('planted', 'VBN'), ('single', 'JJ'), ('day', 'NN'), ('maintain', 'VB'), ('consistency', 'NN'), ('platform', 'NN'), ('without', 'IN'), ('affecting', 'VBG'), ('momentum', 'NN'), ('forest', 'JJS'), ('department', 'NN'), ('set', 'VBN'), ('target', 'NN'), ('plantation', 'NN'), ('4', 'CD'), ('crore', 'NN'), ('13', 'CD'), ('crore', 'NN'), ('33', 'CD'), ('crore', 'NN'), ('sapling', 'VBG'), ('mission', 'NN'), ('50', 'CD'), ('crore', 'NN'), ('plantation', 'NN'), ('shall', 'MD'), ('accomplished', 'VB'), ('three', 'CD'), ('consecutive', 'JJ'), ('year', 'NN'), ('viz', 'NN'), ('2017', 'CD'), ('2018', 'CD'), ('2019', 'CD'), ('4', 'CD'), ('crore', 'NN'), ('sapling', 'VBG'), ('year', 'NN'), ('2017', 'CD'), ('planted', 'VBD'), ('vanmohotsav', 'NN'), ('july', 'NN'), ('1st', 'CD'), ('july', 'NN'), ('7th', 'CD'), ('statewide', 'JJ'), ('drive', 'NN'), ('involvement', 'NN'), ('33', 'CD'), ('government', 'NN'), ('department', 'NN'), ('along', 'IN'), ('student', 'JJ'), ('school', 'NN'), ('college', 'NN'), ('n', 'NN'), ('ncc', 'JJ'), ('csr', 'NN'), ('ngo', 'JJ'), ('railway', 'NN'), ('national', 'JJ'), ('highway', 'NN'), ('defence', 'NN'), ('nabard', 'JJ'), ('stakeholder', 'NN'), ('society', 'NN'), ('first', 'RB'), ('kind', 'NN'), ('24hour', 'CD'), ('toll', 'NN'), ('free', 'JJ'), ('helpline', 'NN'), ('number', 'NN'), ('1926', 'CD'), ('called', 'VBD'), ('hello', 'NN'), ('forest', 'NN'), ('set', 'VBN'), ('provide', 'VBP'), ('information', 'NN'), ('regarding', 'VBG'), ('plantation', 'NN'), ('protection', 'NN'), ('mass', 'NN'), ('awareness', 'NN'), ('forest', 'JJS'), ('department', 'NN'), ('created', 'VBD'), ('mobile', 'JJ'), ('application', 'NN'), ('called', 'VBN'), ('plant', 'NN'), ('record', 'NN'), ('detail', 'NN'), ('plantation', 'NN'), ('number', 'NN'), ('specie', 'NN'), ('location', 'NN'), ('computer', 'NN'), ('system', 'NN'), ('forest', 'JJ'), ('department', 'NN'), ('volunteer', 'NN'), ('individual', 'JJ'), ('collective', 'JJ'), ('organizational', 'JJ'), ('level', 'NN'), ('download', 'NN'), ('use', 'NN'), ('application', 'NN'), ('record', 'NN'), ('tree', 'NN'), ('plantation', 'NN'), ('work', 'NN'), ('application', 'NN'), ('operational', 'JJ'), ('1st', 'CD'), ('july', 'NN'), ('7th', 'CD'), ('july', 'NN'), ('consonance', 'NN'), ('public', 'JJ'), ('participation', 'NN'), ('maharashtra', 'NN'), ('forest', 'JJS'), ('department', 'NN'), ('initiated', 'VBD'), ('maharashtra', 'JJ'), ('harit', 'NN'), ('sena', 'NN'), ('green', 'JJ'), ('army', 'NN'), ('body', 'NN'), ('dedicated', 'VBN'), ('volunteer', 'JJ'), ('participate', 'NN'), ('plantation', 'NN'), ('protection', 'NN'), ('activity', 'NN'), ('forest', 'JJS'), ('wildlife', 'NN'), ('related', 'VBN'), ('sector', 'NN'), ('around', 'IN'), ('year', 'NN'), ('individual', 'JJ'), ('organisation', 'NN'), ('interested', 'JJ'), ('volunteering', 'NN'), ('register', 'NN'), ('green', 'JJ'), ('army', 'NN'), ('website', 'NN'), ('wwwgreenarmymahaforestgovin', 'NN'), ('integrated', 'VBD'), ('drive', 'JJ'), ('set', 'NN'), ('place', 'NN'), ('ensure', 'VB'), ('seamless', 'JJ'), ('successful', 'JJ'), ('participation', 'NN'), ('stakeholder', 'NN'), ('society', 'NN'), ('especially', 'RB'), ('public', 'JJ')]\n"
     ]
    }
   ],
   "source": [
    "tagged = nltk.pos_tag(lemmatized)\n",
    "print(tagged)"
   ]
  },
  {
   "cell_type": "code",
   "execution_count": null,
   "id": "7c8b1e04",
   "metadata": {},
   "outputs": [],
   "source": []
  },
  {
   "cell_type": "code",
   "execution_count": 14,
   "id": "310bed34",
   "metadata": {},
   "outputs": [
    {
     "name": "stdout",
     "output_type": "stream",
     "text": [
      "['2016', '2019', 'state', 'forest', 'department', 'bjp', 'government', 'launched', 'green', 'maharashtra', 'drive', 'aim', 'plant', '50', 'crore', 'tree', 'across', 'state', 'fouryear', 'period', 'october', '2019', 'government', 'claimed', 'surpassed', 'target', 'planting', '33', 'crore', 'tree', 'julyseptember', '2019', 'indian', 'express', 'found', 'nonforest', 'agency', 'gram', 'panchayat', 'tasked', 'planting', 'tree', 'uploaded', 'mandatory', 'audiovisual', 'proof', 'tree', 'plantation', 'drive', 'specially', 'created', 'portal', 'pune', 'revenue', 'division', 'claimed', 'gram', 'panchayat', 'planted', '17', 'crore', 'sapling', 'however', 'evidence', 'uploaded', '87', 'per', 'cent', '149', 'crore', 'sapling', 'also', '59', 'government', 'agency', 'involved', 'drive', 'many', '38', 'submitted', 'survival', 'report', 'sapling', 'year', 'target', 'set', 'forest', 'department', 'comparatively', 'modest', 'example', 'pune', 'circle', 'comprises', 'three', 'division', 'pune', 'solapur', 'district', 'planned', 'plant', '17', 'lakh', 'sapling', 'forest', 'land', 'however', 'may', 'meet', 'target', 'due', 'unavailability', 'fund', 'last', 'year', 'pune', 'circle', 'planted', '70', 'lakh', 'sapling', 'forest', 'land', 'pune', 'division', 'comprises', 'six', 'talukas', 'namely', 'maval', 'mulshi', 'daund', 'indapur', 'baramati', 'havveli', 'preparation', 'done', 'plantation', '4', 'lakh', 'tree', 'special', 'emphasis', 'teakwood', 'national', 'forest', 'policy', 'aim', 'emphasizes', 'maintaining', '33', 'country', 'geographical', 'area', 'forest', 'green', 'cover', 'view', 'part', '50', 'crore', 'plantation', 'programme', 'within', 'maharashtra', 'maharashtra', 'forest', 'department', 'aim', 'plant', '4', 'crore', 'sapling', 'state', '1st', 'july', '7th', '2017', 'celebrate', 'vanmohotsav', 'plantation', 'programme', 'announced', '2016', 'aim', 'planting', '2', 'crore', 'tree', '1st', 'july', '2016', 'resounding', 'success', 'final', 'total', 'reported', 'figure', '282', 'crore', 'sapling', 'planted', 'single', 'day', 'maintain', 'consistency', 'platform', 'without', 'affecting', 'momentum', 'forest', 'department', 'set', 'target', 'plantation', '4', 'crore', '13', 'crore', '33', 'crore', 'sapling', 'mission', '50', 'crore', 'plantation', 'shall', 'accomplished', 'three', 'consecutive', 'year', 'viz', '2017', '2018', '2019', '4', 'crore', 'sapling', 'year', '2017', 'planted', 'vanmohotsav', 'july', '1st', 'july', '7th', 'statewide', 'drive', 'involvement', '33', 'government', 'department', 'along', 'student', 'school', 'college', 'n', 'ncc', 'csr', 'ngo', 'railway', 'national', 'highway', 'defence', 'nabard', 'stakeholder', 'society', 'first', 'kind', '24hour', 'toll', 'free', 'helpline', 'number', '1926', 'called', 'hello', 'forest', 'set', 'provide', 'information', 'regarding', 'plantation', 'protection', 'mass', 'awareness', 'forest', 'department', 'created', 'mobile', 'application', 'called', 'plant', 'record', 'detail', 'plantation', 'number', 'specie', 'location', 'computer', 'system', 'forest', 'department', 'volunteer', 'individual', 'collective', 'organizational', 'level', 'download', 'use', 'application', 'record', 'tree', 'plantation', 'work', 'application', 'operational', '1st', 'july', '7th', 'july', 'consonance', 'public', 'participation', 'maharashtra', 'forest', 'department', 'initiated', 'maharashtra', 'harit', 'sena', 'green', 'army', 'body', 'dedicated', 'volunteer', 'participate', 'plantation', 'protection', 'activity', 'forest', 'wildlife', 'related', 'sector', 'around', 'year', 'individual', 'organisation', 'interested', 'volunteering', 'register', 'green', 'army', 'website', 'wwwgreenarmymahaforestgovin', 'integrated', 'drive', 'set', 'place', 'ensure', 'seamless', 'successful', 'participation', 'stakeholder', 'society', 'especially', 'public']\n"
     ]
    }
   ],
   "source": [
    "corpus = lemmatized\n",
    "print(corpus)"
   ]
  },
  {
   "cell_type": "code",
   "execution_count": 15,
   "id": "f9842b16",
   "metadata": {},
   "outputs": [
    {
     "data": {
      "text/plain": [
       "367"
      ]
     },
     "execution_count": 15,
     "metadata": {},
     "output_type": "execute_result"
    }
   ],
   "source": [
    "total=len(lemmatized)\n",
    "total"
   ]
  },
  {
   "cell_type": "code",
   "execution_count": 16,
   "id": "e9b33980",
   "metadata": {},
   "outputs": [
    {
     "name": "stdout",
     "output_type": "stream",
     "text": [
      "{'2016': 3, '2019': 4, 'state': 3, 'forest': 13, 'department': 8, 'bjp': 1, 'government': 4, 'launched': 1, 'green': 4, 'maharashtra': 5, 'drive': 5, 'aim': 4, 'plant': 4, '50': 3, 'crore': 13, 'tree': 7, 'across': 1, 'fouryear': 1, 'period': 1, 'october': 1, 'claimed': 2, 'surpassed': 1, 'target': 4, 'planting': 3, '33': 4, 'julyseptember': 1, 'indian': 1, 'express': 1, 'found': 1, 'nonforest': 1, 'agency': 2, 'gram': 2, 'panchayat': 2, 'tasked': 1, 'uploaded': 2, 'mandatory': 1, 'audiovisual': 1, 'proof': 1, 'plantation': 10, 'specially': 1, 'created': 2, 'portal': 1, 'pune': 5, 'revenue': 1, 'division': 3, 'planted': 4, '17': 2, 'sapling': 9, 'however': 2, 'evidence': 1, '87': 1, 'per': 1, 'cent': 1, '149': 1, 'also': 1, '59': 1, 'involved': 1, 'many': 1, '38': 1, 'submitted': 1, 'survival': 1, 'report': 1, 'year': 5, 'set': 4, 'comparatively': 1, 'modest': 1, 'example': 1, 'circle': 2, 'comprises': 2, 'three': 2, 'solapur': 1, 'district': 1, 'planned': 1, 'lakh': 3, 'land': 2, 'may': 1, 'meet': 1, 'due': 1, 'unavailability': 1, 'fund': 1, 'last': 1, '70': 1, 'six': 1, 'talukas': 1, 'namely': 1, 'maval': 1, 'mulshi': 1, 'daund': 1, 'indapur': 1, 'baramati': 1, 'havveli': 1, 'preparation': 1, 'done': 1, '4': 4, 'special': 1, 'emphasis': 1, 'teakwood': 1, 'national': 2, 'policy': 1, 'emphasizes': 1, 'maintaining': 1, 'country': 1, 'geographical': 1, 'area': 1, 'cover': 1, 'view': 1, 'part': 1, 'programme': 2, 'within': 1, '1st': 4, 'july': 6, '7th': 3, '2017': 3, 'celebrate': 1, 'vanmohotsav': 2, 'announced': 1, '2': 1, 'resounding': 1, 'success': 1, 'final': 1, 'total': 1, 'reported': 1, 'figure': 1, '282': 1, 'single': 1, 'day': 1, 'maintain': 1, 'consistency': 1, 'platform': 1, 'without': 1, 'affecting': 1, 'momentum': 1, '13': 1, 'mission': 1, 'shall': 1, 'accomplished': 1, 'consecutive': 1, 'viz': 1, '2018': 1, 'statewide': 1, 'involvement': 1, 'along': 1, 'student': 1, 'school': 1, 'college': 1, 'n': 1, 'ncc': 1, 'csr': 1, 'ngo': 1, 'railway': 1, 'highway': 1, 'defence': 1, 'nabard': 1, 'stakeholder': 2, 'society': 2, 'first': 1, 'kind': 1, '24hour': 1, 'toll': 1, 'free': 1, 'helpline': 1, 'number': 2, '1926': 1, 'called': 2, 'hello': 1, 'provide': 1, 'information': 1, 'regarding': 1, 'protection': 2, 'mass': 1, 'awareness': 1, 'mobile': 1, 'application': 3, 'record': 2, 'detail': 1, 'specie': 1, 'location': 1, 'computer': 1, 'system': 1, 'volunteer': 2, 'individual': 2, 'collective': 1, 'organizational': 1, 'level': 1, 'download': 1, 'use': 1, 'work': 1, 'operational': 1, 'consonance': 1, 'public': 2, 'participation': 2, 'initiated': 1, 'harit': 1, 'sena': 1, 'army': 2, 'body': 1, 'dedicated': 1, 'participate': 1, 'activity': 1, 'wildlife': 1, 'related': 1, 'sector': 1, 'around': 1, 'organisation': 1, 'interested': 1, 'volunteering': 1, 'register': 1, 'website': 1, 'wwwgreenarmymahaforestgovin': 1, 'integrated': 1, 'place': 1, 'ensure': 1, 'seamless': 1, 'successful': 1, 'especially': 1}\n"
     ]
    }
   ],
   "source": [
    "count = {}\n",
    "for j in lemmatized:\n",
    "    if j in count:\n",
    "        count[j] += 1\n",
    "    else:\n",
    "        count[j] = 1\n",
    "\n",
    "print(count)"
   ]
  },
  {
   "cell_type": "markdown",
   "id": "9bd4ec58",
   "metadata": {},
   "source": [
    "<b>Term Frequency</b>:<br>\n",
    "\n",
    "\n",
    "    TF(term,document) = count of term in document / number of words in document"
   ]
  },
  {
   "cell_type": "code",
   "execution_count": 17,
   "id": "c17535b9",
   "metadata": {},
   "outputs": [],
   "source": [
    "def tff(tf):\n",
    "    for j in tf:\n",
    "\n",
    "            tf[j]= tf[j]/total \n",
    "    return tf"
   ]
  },
  {
   "cell_type": "code",
   "execution_count": 18,
   "id": "d9d390c9",
   "metadata": {},
   "outputs": [],
   "source": [
    "tf=tff(count)"
   ]
  },
  {
   "cell_type": "code",
   "execution_count": null,
   "id": "eb38a04b",
   "metadata": {},
   "outputs": [],
   "source": []
  },
  {
   "cell_type": "code",
   "execution_count": 19,
   "id": "29719127",
   "metadata": {},
   "outputs": [
    {
     "data": {
      "text/plain": [
       "{'2016': 0.008174386920980926,\n",
       " '2019': 0.010899182561307902,\n",
       " 'state': 0.008174386920980926,\n",
       " 'forest': 0.035422343324250684,\n",
       " 'department': 0.021798365122615803,\n",
       " 'bjp': 0.0027247956403269754,\n",
       " 'government': 0.010899182561307902,\n",
       " 'launched': 0.0027247956403269754,\n",
       " 'green': 0.010899182561307902,\n",
       " 'maharashtra': 0.013623978201634877,\n",
       " 'drive': 0.013623978201634877,\n",
       " 'aim': 0.010899182561307902,\n",
       " 'plant': 0.010899182561307902,\n",
       " '50': 0.008174386920980926,\n",
       " 'crore': 0.035422343324250684,\n",
       " 'tree': 0.01907356948228883,\n",
       " 'across': 0.0027247956403269754,\n",
       " 'fouryear': 0.0027247956403269754,\n",
       " 'period': 0.0027247956403269754,\n",
       " 'october': 0.0027247956403269754,\n",
       " 'claimed': 0.005449591280653951,\n",
       " 'surpassed': 0.0027247956403269754,\n",
       " 'target': 0.010899182561307902,\n",
       " 'planting': 0.008174386920980926,\n",
       " '33': 0.010899182561307902,\n",
       " 'julyseptember': 0.0027247956403269754,\n",
       " 'indian': 0.0027247956403269754,\n",
       " 'express': 0.0027247956403269754,\n",
       " 'found': 0.0027247956403269754,\n",
       " 'nonforest': 0.0027247956403269754,\n",
       " 'agency': 0.005449591280653951,\n",
       " 'gram': 0.005449591280653951,\n",
       " 'panchayat': 0.005449591280653951,\n",
       " 'tasked': 0.0027247956403269754,\n",
       " 'uploaded': 0.005449591280653951,\n",
       " 'mandatory': 0.0027247956403269754,\n",
       " 'audiovisual': 0.0027247956403269754,\n",
       " 'proof': 0.0027247956403269754,\n",
       " 'plantation': 0.027247956403269755,\n",
       " 'specially': 0.0027247956403269754,\n",
       " 'created': 0.005449591280653951,\n",
       " 'portal': 0.0027247956403269754,\n",
       " 'pune': 0.013623978201634877,\n",
       " 'revenue': 0.0027247956403269754,\n",
       " 'division': 0.008174386920980926,\n",
       " 'planted': 0.010899182561307902,\n",
       " '17': 0.005449591280653951,\n",
       " 'sapling': 0.02452316076294278,\n",
       " 'however': 0.005449591280653951,\n",
       " 'evidence': 0.0027247956403269754,\n",
       " '87': 0.0027247956403269754,\n",
       " 'per': 0.0027247956403269754,\n",
       " 'cent': 0.0027247956403269754,\n",
       " '149': 0.0027247956403269754,\n",
       " 'also': 0.0027247956403269754,\n",
       " '59': 0.0027247956403269754,\n",
       " 'involved': 0.0027247956403269754,\n",
       " 'many': 0.0027247956403269754,\n",
       " '38': 0.0027247956403269754,\n",
       " 'submitted': 0.0027247956403269754,\n",
       " 'survival': 0.0027247956403269754,\n",
       " 'report': 0.0027247956403269754,\n",
       " 'year': 0.013623978201634877,\n",
       " 'set': 0.010899182561307902,\n",
       " 'comparatively': 0.0027247956403269754,\n",
       " 'modest': 0.0027247956403269754,\n",
       " 'example': 0.0027247956403269754,\n",
       " 'circle': 0.005449591280653951,\n",
       " 'comprises': 0.005449591280653951,\n",
       " 'three': 0.005449591280653951,\n",
       " 'solapur': 0.0027247956403269754,\n",
       " 'district': 0.0027247956403269754,\n",
       " 'planned': 0.0027247956403269754,\n",
       " 'lakh': 0.008174386920980926,\n",
       " 'land': 0.005449591280653951,\n",
       " 'may': 0.0027247956403269754,\n",
       " 'meet': 0.0027247956403269754,\n",
       " 'due': 0.0027247956403269754,\n",
       " 'unavailability': 0.0027247956403269754,\n",
       " 'fund': 0.0027247956403269754,\n",
       " 'last': 0.0027247956403269754,\n",
       " '70': 0.0027247956403269754,\n",
       " 'six': 0.0027247956403269754,\n",
       " 'talukas': 0.0027247956403269754,\n",
       " 'namely': 0.0027247956403269754,\n",
       " 'maval': 0.0027247956403269754,\n",
       " 'mulshi': 0.0027247956403269754,\n",
       " 'daund': 0.0027247956403269754,\n",
       " 'indapur': 0.0027247956403269754,\n",
       " 'baramati': 0.0027247956403269754,\n",
       " 'havveli': 0.0027247956403269754,\n",
       " 'preparation': 0.0027247956403269754,\n",
       " 'done': 0.0027247956403269754,\n",
       " '4': 0.010899182561307902,\n",
       " 'special': 0.0027247956403269754,\n",
       " 'emphasis': 0.0027247956403269754,\n",
       " 'teakwood': 0.0027247956403269754,\n",
       " 'national': 0.005449591280653951,\n",
       " 'policy': 0.0027247956403269754,\n",
       " 'emphasizes': 0.0027247956403269754,\n",
       " 'maintaining': 0.0027247956403269754,\n",
       " 'country': 0.0027247956403269754,\n",
       " 'geographical': 0.0027247956403269754,\n",
       " 'area': 0.0027247956403269754,\n",
       " 'cover': 0.0027247956403269754,\n",
       " 'view': 0.0027247956403269754,\n",
       " 'part': 0.0027247956403269754,\n",
       " 'programme': 0.005449591280653951,\n",
       " 'within': 0.0027247956403269754,\n",
       " '1st': 0.010899182561307902,\n",
       " 'july': 0.01634877384196185,\n",
       " '7th': 0.008174386920980926,\n",
       " '2017': 0.008174386920980926,\n",
       " 'celebrate': 0.0027247956403269754,\n",
       " 'vanmohotsav': 0.005449591280653951,\n",
       " 'announced': 0.0027247956403269754,\n",
       " '2': 0.0027247956403269754,\n",
       " 'resounding': 0.0027247956403269754,\n",
       " 'success': 0.0027247956403269754,\n",
       " 'final': 0.0027247956403269754,\n",
       " 'total': 0.0027247956403269754,\n",
       " 'reported': 0.0027247956403269754,\n",
       " 'figure': 0.0027247956403269754,\n",
       " '282': 0.0027247956403269754,\n",
       " 'single': 0.0027247956403269754,\n",
       " 'day': 0.0027247956403269754,\n",
       " 'maintain': 0.0027247956403269754,\n",
       " 'consistency': 0.0027247956403269754,\n",
       " 'platform': 0.0027247956403269754,\n",
       " 'without': 0.0027247956403269754,\n",
       " 'affecting': 0.0027247956403269754,\n",
       " 'momentum': 0.0027247956403269754,\n",
       " '13': 0.0027247956403269754,\n",
       " 'mission': 0.0027247956403269754,\n",
       " 'shall': 0.0027247956403269754,\n",
       " 'accomplished': 0.0027247956403269754,\n",
       " 'consecutive': 0.0027247956403269754,\n",
       " 'viz': 0.0027247956403269754,\n",
       " '2018': 0.0027247956403269754,\n",
       " 'statewide': 0.0027247956403269754,\n",
       " 'involvement': 0.0027247956403269754,\n",
       " 'along': 0.0027247956403269754,\n",
       " 'student': 0.0027247956403269754,\n",
       " 'school': 0.0027247956403269754,\n",
       " 'college': 0.0027247956403269754,\n",
       " 'n': 0.0027247956403269754,\n",
       " 'ncc': 0.0027247956403269754,\n",
       " 'csr': 0.0027247956403269754,\n",
       " 'ngo': 0.0027247956403269754,\n",
       " 'railway': 0.0027247956403269754,\n",
       " 'highway': 0.0027247956403269754,\n",
       " 'defence': 0.0027247956403269754,\n",
       " 'nabard': 0.0027247956403269754,\n",
       " 'stakeholder': 0.005449591280653951,\n",
       " 'society': 0.005449591280653951,\n",
       " 'first': 0.0027247956403269754,\n",
       " 'kind': 0.0027247956403269754,\n",
       " '24hour': 0.0027247956403269754,\n",
       " 'toll': 0.0027247956403269754,\n",
       " 'free': 0.0027247956403269754,\n",
       " 'helpline': 0.0027247956403269754,\n",
       " 'number': 0.005449591280653951,\n",
       " '1926': 0.0027247956403269754,\n",
       " 'called': 0.005449591280653951,\n",
       " 'hello': 0.0027247956403269754,\n",
       " 'provide': 0.0027247956403269754,\n",
       " 'information': 0.0027247956403269754,\n",
       " 'regarding': 0.0027247956403269754,\n",
       " 'protection': 0.005449591280653951,\n",
       " 'mass': 0.0027247956403269754,\n",
       " 'awareness': 0.0027247956403269754,\n",
       " 'mobile': 0.0027247956403269754,\n",
       " 'application': 0.008174386920980926,\n",
       " 'record': 0.005449591280653951,\n",
       " 'detail': 0.0027247956403269754,\n",
       " 'specie': 0.0027247956403269754,\n",
       " 'location': 0.0027247956403269754,\n",
       " 'computer': 0.0027247956403269754,\n",
       " 'system': 0.0027247956403269754,\n",
       " 'volunteer': 0.005449591280653951,\n",
       " 'individual': 0.005449591280653951,\n",
       " 'collective': 0.0027247956403269754,\n",
       " 'organizational': 0.0027247956403269754,\n",
       " 'level': 0.0027247956403269754,\n",
       " 'download': 0.0027247956403269754,\n",
       " 'use': 0.0027247956403269754,\n",
       " 'work': 0.0027247956403269754,\n",
       " 'operational': 0.0027247956403269754,\n",
       " 'consonance': 0.0027247956403269754,\n",
       " 'public': 0.005449591280653951,\n",
       " 'participation': 0.005449591280653951,\n",
       " 'initiated': 0.0027247956403269754,\n",
       " 'harit': 0.0027247956403269754,\n",
       " 'sena': 0.0027247956403269754,\n",
       " 'army': 0.005449591280653951,\n",
       " 'body': 0.0027247956403269754,\n",
       " 'dedicated': 0.0027247956403269754,\n",
       " 'participate': 0.0027247956403269754,\n",
       " 'activity': 0.0027247956403269754,\n",
       " 'wildlife': 0.0027247956403269754,\n",
       " 'related': 0.0027247956403269754,\n",
       " 'sector': 0.0027247956403269754,\n",
       " 'around': 0.0027247956403269754,\n",
       " 'organisation': 0.0027247956403269754,\n",
       " 'interested': 0.0027247956403269754,\n",
       " 'volunteering': 0.0027247956403269754,\n",
       " 'register': 0.0027247956403269754,\n",
       " 'website': 0.0027247956403269754,\n",
       " 'wwwgreenarmymahaforestgovin': 0.0027247956403269754,\n",
       " 'integrated': 0.0027247956403269754,\n",
       " 'place': 0.0027247956403269754,\n",
       " 'ensure': 0.0027247956403269754,\n",
       " 'seamless': 0.0027247956403269754,\n",
       " 'successful': 0.0027247956403269754,\n",
       " 'especially': 0.0027247956403269754}"
      ]
     },
     "execution_count": 19,
     "metadata": {},
     "output_type": "execute_result"
    }
   ],
   "source": [
    "tf"
   ]
  },
  {
   "cell_type": "markdown",
   "id": "db18dc20",
   "metadata": {},
   "source": [
    "### IDF (Inverse Document Frequency)\n",
    "\n",
    "Document Frequency : df(term) = occurence of term in document<br>\n",
    "    \n",
    "    count of corpus means count of sentences in document\n",
    "    idf(term) = log(count of corpus / (df + 1))"
   ]
  },
  {
   "cell_type": "code",
   "execution_count": 20,
   "id": "a10c8dc3",
   "metadata": {},
   "outputs": [
    {
     "name": "stdout",
     "output_type": "stream",
     "text": [
      "{'2016': 3, '2019': 4, 'state': 3, 'forest': 13, 'department': 8, 'bjp': 1, 'government': 4, 'launched': 1, 'green': 4, 'maharashtra': 5, 'drive': 5, 'aim': 4, 'plant': 4, '50': 3, 'crore': 13, 'tree': 7, 'across': 1, 'fouryear': 1, 'period': 1, 'october': 1, 'claimed': 2, 'surpassed': 1, 'target': 4, 'planting': 3, '33': 4, 'julyseptember': 1, 'indian': 1, 'express': 1, 'found': 1, 'nonforest': 1, 'agency': 2, 'gram': 2, 'panchayat': 2, 'tasked': 1, 'uploaded': 2, 'mandatory': 1, 'audiovisual': 1, 'proof': 1, 'plantation': 10, 'specially': 1, 'created': 2, 'portal': 1, 'pune': 5, 'revenue': 1, 'division': 3, 'planted': 4, '17': 2, 'sapling': 9, 'however': 2, 'evidence': 1, '87': 1, 'per': 1, 'cent': 1, '149': 1, 'also': 1, '59': 1, 'involved': 1, 'many': 1, '38': 1, 'submitted': 1, 'survival': 1, 'report': 1, 'year': 5, 'set': 4, 'comparatively': 1, 'modest': 1, 'example': 1, 'circle': 2, 'comprises': 2, 'three': 2, 'solapur': 1, 'district': 1, 'planned': 1, 'lakh': 3, 'land': 2, 'may': 1, 'meet': 1, 'due': 1, 'unavailability': 1, 'fund': 1, 'last': 1, '70': 1, 'six': 1, 'talukas': 1, 'namely': 1, 'maval': 1, 'mulshi': 1, 'daund': 1, 'indapur': 1, 'baramati': 1, 'havveli': 1, 'preparation': 1, 'done': 1, '4': 4, 'special': 1, 'emphasis': 1, 'teakwood': 1, 'national': 2, 'policy': 1, 'emphasizes': 1, 'maintaining': 1, 'country': 1, 'geographical': 1, 'area': 1, 'cover': 1, 'view': 1, 'part': 1, 'programme': 2, 'within': 1, '1st': 4, 'july': 6, '7th': 3, '2017': 3, 'celebrate': 1, 'vanmohotsav': 2, 'announced': 1, '2': 1, 'resounding': 1, 'success': 1, 'final': 1, 'total': 1, 'reported': 1, 'figure': 1, '282': 1, 'single': 1, 'day': 1, 'maintain': 1, 'consistency': 1, 'platform': 1, 'without': 1, 'affecting': 1, 'momentum': 1, '13': 1, 'mission': 1, 'shall': 1, 'accomplished': 1, 'consecutive': 1, 'viz': 1, '2018': 1, 'statewide': 1, 'involvement': 1, 'along': 1, 'student': 1, 'school': 1, 'college': 1, 'n': 1, 'ncc': 1, 'csr': 1, 'ngo': 1, 'railway': 1, 'highway': 1, 'defence': 1, 'nabard': 1, 'stakeholder': 2, 'society': 2, 'first': 1, 'kind': 1, '24hour': 1, 'toll': 1, 'free': 1, 'helpline': 1, 'number': 2, '1926': 1, 'called': 2, 'hello': 1, 'provide': 1, 'information': 1, 'regarding': 1, 'protection': 2, 'mass': 1, 'awareness': 1, 'mobile': 1, 'application': 3, 'record': 2, 'detail': 1, 'specie': 1, 'location': 1, 'computer': 1, 'system': 1, 'volunteer': 2, 'individual': 2, 'collective': 1, 'organizational': 1, 'level': 1, 'download': 1, 'use': 1, 'work': 1, 'operational': 1, 'consonance': 1, 'public': 2, 'participation': 2, 'initiated': 1, 'harit': 1, 'sena': 1, 'army': 2, 'body': 1, 'dedicated': 1, 'participate': 1, 'activity': 1, 'wildlife': 1, 'related': 1, 'sector': 1, 'around': 1, 'organisation': 1, 'interested': 1, 'volunteering': 1, 'register': 1, 'website': 1, 'wwwgreenarmymahaforestgovin': 1, 'integrated': 1, 'place': 1, 'ensure': 1, 'seamless': 1, 'successful': 1, 'especially': 1}\n"
     ]
    }
   ],
   "source": [
    "count = {}\n",
    "for j in lemmatized:\n",
    "    if j in count:\n",
    "        count[j] += 1\n",
    "    else:\n",
    "        count[j] = 1\n",
    "print(count)"
   ]
  },
  {
   "cell_type": "code",
   "execution_count": 21,
   "id": "1623aeab",
   "metadata": {},
   "outputs": [],
   "source": [
    "def idff(tf):\n",
    "    for j in tf:\n",
    "        tf[j]= np.log10( sent_len/ (tf[j]+1)) \n",
    "    return tf"
   ]
  },
  {
   "cell_type": "code",
   "execution_count": 22,
   "id": "dd60788a",
   "metadata": {},
   "outputs": [
    {
     "data": {
      "text/plain": [
       "{'2016': 0.7201593034059569,\n",
       " '2019': 0.6232492903979004,\n",
       " 'state': 0.7201593034059569,\n",
       " 'forest': 0.17609125905568124,\n",
       " 'department': 0.36797678529459443,\n",
       " 'bjp': 1.021189299069938,\n",
       " 'government': 0.6232492903979004,\n",
       " 'launched': 1.021189299069938,\n",
       " 'green': 0.6232492903979004,\n",
       " 'maharashtra': 0.5440680443502757,\n",
       " 'drive': 0.5440680443502757,\n",
       " 'aim': 0.6232492903979004,\n",
       " 'plant': 0.6232492903979004,\n",
       " '50': 0.7201593034059569,\n",
       " 'crore': 0.17609125905568124,\n",
       " 'tree': 0.4191293077419757,\n",
       " 'across': 1.021189299069938,\n",
       " 'fouryear': 1.021189299069938,\n",
       " 'period': 1.021189299069938,\n",
       " 'october': 1.021189299069938,\n",
       " 'claimed': 0.8450980400142568,\n",
       " 'surpassed': 1.021189299069938,\n",
       " 'target': 0.6232492903979004,\n",
       " 'planting': 0.7201593034059569,\n",
       " '33': 0.6232492903979004,\n",
       " 'julyseptember': 1.021189299069938,\n",
       " 'indian': 1.021189299069938,\n",
       " 'express': 1.021189299069938,\n",
       " 'found': 1.021189299069938,\n",
       " 'nonforest': 1.021189299069938,\n",
       " 'agency': 0.8450980400142568,\n",
       " 'gram': 0.8450980400142568,\n",
       " 'panchayat': 0.8450980400142568,\n",
       " 'tasked': 1.021189299069938,\n",
       " 'uploaded': 0.8450980400142568,\n",
       " 'mandatory': 1.021189299069938,\n",
       " 'audiovisual': 1.021189299069938,\n",
       " 'proof': 1.021189299069938,\n",
       " 'plantation': 0.2808266095756942,\n",
       " 'specially': 1.021189299069938,\n",
       " 'created': 0.8450980400142568,\n",
       " 'portal': 1.021189299069938,\n",
       " 'pune': 0.5440680443502757,\n",
       " 'revenue': 1.021189299069938,\n",
       " 'division': 0.7201593034059569,\n",
       " 'planted': 0.6232492903979004,\n",
       " '17': 0.8450980400142568,\n",
       " 'sapling': 0.3222192947339193,\n",
       " 'however': 0.8450980400142568,\n",
       " 'evidence': 1.021189299069938,\n",
       " '87': 1.021189299069938,\n",
       " 'per': 1.021189299069938,\n",
       " 'cent': 1.021189299069938,\n",
       " '149': 1.021189299069938,\n",
       " 'also': 1.021189299069938,\n",
       " '59': 1.021189299069938,\n",
       " 'involved': 1.021189299069938,\n",
       " 'many': 1.021189299069938,\n",
       " '38': 1.021189299069938,\n",
       " 'submitted': 1.021189299069938,\n",
       " 'survival': 1.021189299069938,\n",
       " 'report': 1.021189299069938,\n",
       " 'year': 0.5440680443502757,\n",
       " 'set': 0.6232492903979004,\n",
       " 'comparatively': 1.021189299069938,\n",
       " 'modest': 1.021189299069938,\n",
       " 'example': 1.021189299069938,\n",
       " 'circle': 0.8450980400142568,\n",
       " 'comprises': 0.8450980400142568,\n",
       " 'three': 0.8450980400142568,\n",
       " 'solapur': 1.021189299069938,\n",
       " 'district': 1.021189299069938,\n",
       " 'planned': 1.021189299069938,\n",
       " 'lakh': 0.7201593034059569,\n",
       " 'land': 0.8450980400142568,\n",
       " 'may': 1.021189299069938,\n",
       " 'meet': 1.021189299069938,\n",
       " 'due': 1.021189299069938,\n",
       " 'unavailability': 1.021189299069938,\n",
       " 'fund': 1.021189299069938,\n",
       " 'last': 1.021189299069938,\n",
       " '70': 1.021189299069938,\n",
       " 'six': 1.021189299069938,\n",
       " 'talukas': 1.021189299069938,\n",
       " 'namely': 1.021189299069938,\n",
       " 'maval': 1.021189299069938,\n",
       " 'mulshi': 1.021189299069938,\n",
       " 'daund': 1.021189299069938,\n",
       " 'indapur': 1.021189299069938,\n",
       " 'baramati': 1.021189299069938,\n",
       " 'havveli': 1.021189299069938,\n",
       " 'preparation': 1.021189299069938,\n",
       " 'done': 1.021189299069938,\n",
       " '4': 0.6232492903979004,\n",
       " 'special': 1.021189299069938,\n",
       " 'emphasis': 1.021189299069938,\n",
       " 'teakwood': 1.021189299069938,\n",
       " 'national': 0.8450980400142568,\n",
       " 'policy': 1.021189299069938,\n",
       " 'emphasizes': 1.021189299069938,\n",
       " 'maintaining': 1.021189299069938,\n",
       " 'country': 1.021189299069938,\n",
       " 'geographical': 1.021189299069938,\n",
       " 'area': 1.021189299069938,\n",
       " 'cover': 1.021189299069938,\n",
       " 'view': 1.021189299069938,\n",
       " 'part': 1.021189299069938,\n",
       " 'programme': 0.8450980400142568,\n",
       " 'within': 1.021189299069938,\n",
       " '1st': 0.6232492903979004,\n",
       " 'july': 0.47712125471966244,\n",
       " '7th': 0.7201593034059569,\n",
       " '2017': 0.7201593034059569,\n",
       " 'celebrate': 1.021189299069938,\n",
       " 'vanmohotsav': 0.8450980400142568,\n",
       " 'announced': 1.021189299069938,\n",
       " '2': 1.021189299069938,\n",
       " 'resounding': 1.021189299069938,\n",
       " 'success': 1.021189299069938,\n",
       " 'final': 1.021189299069938,\n",
       " 'total': 1.021189299069938,\n",
       " 'reported': 1.021189299069938,\n",
       " 'figure': 1.021189299069938,\n",
       " '282': 1.021189299069938,\n",
       " 'single': 1.021189299069938,\n",
       " 'day': 1.021189299069938,\n",
       " 'maintain': 1.021189299069938,\n",
       " 'consistency': 1.021189299069938,\n",
       " 'platform': 1.021189299069938,\n",
       " 'without': 1.021189299069938,\n",
       " 'affecting': 1.021189299069938,\n",
       " 'momentum': 1.021189299069938,\n",
       " '13': 1.021189299069938,\n",
       " 'mission': 1.021189299069938,\n",
       " 'shall': 1.021189299069938,\n",
       " 'accomplished': 1.021189299069938,\n",
       " 'consecutive': 1.021189299069938,\n",
       " 'viz': 1.021189299069938,\n",
       " '2018': 1.021189299069938,\n",
       " 'statewide': 1.021189299069938,\n",
       " 'involvement': 1.021189299069938,\n",
       " 'along': 1.021189299069938,\n",
       " 'student': 1.021189299069938,\n",
       " 'school': 1.021189299069938,\n",
       " 'college': 1.021189299069938,\n",
       " 'n': 1.021189299069938,\n",
       " 'ncc': 1.021189299069938,\n",
       " 'csr': 1.021189299069938,\n",
       " 'ngo': 1.021189299069938,\n",
       " 'railway': 1.021189299069938,\n",
       " 'highway': 1.021189299069938,\n",
       " 'defence': 1.021189299069938,\n",
       " 'nabard': 1.021189299069938,\n",
       " 'stakeholder': 0.8450980400142568,\n",
       " 'society': 0.8450980400142568,\n",
       " 'first': 1.021189299069938,\n",
       " 'kind': 1.021189299069938,\n",
       " '24hour': 1.021189299069938,\n",
       " 'toll': 1.021189299069938,\n",
       " 'free': 1.021189299069938,\n",
       " 'helpline': 1.021189299069938,\n",
       " 'number': 0.8450980400142568,\n",
       " '1926': 1.021189299069938,\n",
       " 'called': 0.8450980400142568,\n",
       " 'hello': 1.021189299069938,\n",
       " 'provide': 1.021189299069938,\n",
       " 'information': 1.021189299069938,\n",
       " 'regarding': 1.021189299069938,\n",
       " 'protection': 0.8450980400142568,\n",
       " 'mass': 1.021189299069938,\n",
       " 'awareness': 1.021189299069938,\n",
       " 'mobile': 1.021189299069938,\n",
       " 'application': 0.7201593034059569,\n",
       " 'record': 0.8450980400142568,\n",
       " 'detail': 1.021189299069938,\n",
       " 'specie': 1.021189299069938,\n",
       " 'location': 1.021189299069938,\n",
       " 'computer': 1.021189299069938,\n",
       " 'system': 1.021189299069938,\n",
       " 'volunteer': 0.8450980400142568,\n",
       " 'individual': 0.8450980400142568,\n",
       " 'collective': 1.021189299069938,\n",
       " 'organizational': 1.021189299069938,\n",
       " 'level': 1.021189299069938,\n",
       " 'download': 1.021189299069938,\n",
       " 'use': 1.021189299069938,\n",
       " 'work': 1.021189299069938,\n",
       " 'operational': 1.021189299069938,\n",
       " 'consonance': 1.021189299069938,\n",
       " 'public': 0.8450980400142568,\n",
       " 'participation': 0.8450980400142568,\n",
       " 'initiated': 1.021189299069938,\n",
       " 'harit': 1.021189299069938,\n",
       " 'sena': 1.021189299069938,\n",
       " 'army': 0.8450980400142568,\n",
       " 'body': 1.021189299069938,\n",
       " 'dedicated': 1.021189299069938,\n",
       " 'participate': 1.021189299069938,\n",
       " 'activity': 1.021189299069938,\n",
       " 'wildlife': 1.021189299069938,\n",
       " 'related': 1.021189299069938,\n",
       " 'sector': 1.021189299069938,\n",
       " 'around': 1.021189299069938,\n",
       " 'organisation': 1.021189299069938,\n",
       " 'interested': 1.021189299069938,\n",
       " 'volunteering': 1.021189299069938,\n",
       " 'register': 1.021189299069938,\n",
       " 'website': 1.021189299069938,\n",
       " 'wwwgreenarmymahaforestgovin': 1.021189299069938,\n",
       " 'integrated': 1.021189299069938,\n",
       " 'place': 1.021189299069938,\n",
       " 'ensure': 1.021189299069938,\n",
       " 'seamless': 1.021189299069938,\n",
       " 'successful': 1.021189299069938,\n",
       " 'especially': 1.021189299069938}"
      ]
     },
     "execution_count": 22,
     "metadata": {},
     "output_type": "execute_result"
    }
   ],
   "source": [
    "idf=idff(count)\n",
    "idf"
   ]
  },
  {
   "cell_type": "markdown",
   "id": "ea7aeed9",
   "metadata": {},
   "source": [
    "### TF-IDF\n",
    "\n",
    " tf-idf(term, document) = tf(term, document) * idf(term)"
   ]
  },
  {
   "cell_type": "code",
   "execution_count": null,
   "id": "01e84b52",
   "metadata": {},
   "outputs": [],
   "source": []
  },
  {
   "cell_type": "code",
   "execution_count": 23,
   "id": "21a358d2",
   "metadata": {},
   "outputs": [],
   "source": [
    "def tfidff(tf,idf):\n",
    "    for i in tf:\n",
    "        tf[i]=tf[i]*idf[i] \n",
    "    return tf"
   ]
  },
  {
   "cell_type": "code",
   "execution_count": 24,
   "id": "9884b0bb",
   "metadata": {},
   "outputs": [
    {
     "data": {
      "text/plain": [
       "{'2016': 0.005886860790784388,\n",
       " '2019': 0.0067929077972523205,\n",
       " 'state': 0.005886860790784388,\n",
       " 'forest': 0.006237565034669908,\n",
       " 'department': 0.00802129232249797,\n",
       " 'bjp': 0.002782532150054327,\n",
       " 'government': 0.0067929077972523205,\n",
       " 'launched': 0.002782532150054327,\n",
       " 'green': 0.0067929077972523205,\n",
       " 'maharashtra': 0.0074123711764342735,\n",
       " 'drive': 0.0074123711764342735,\n",
       " 'aim': 0.0067929077972523205,\n",
       " 'plant': 0.0067929077972523205,\n",
       " '50': 0.005886860790784388,\n",
       " 'crore': 0.006237565034669908,\n",
       " 'tree': 0.007994291973280191,\n",
       " 'across': 0.002782532150054327,\n",
       " 'fouryear': 0.002782532150054327,\n",
       " 'period': 0.002782532150054327,\n",
       " 'october': 0.002782532150054327,\n",
       " 'claimed': 0.004605438910159437,\n",
       " 'surpassed': 0.002782532150054327,\n",
       " 'target': 0.0067929077972523205,\n",
       " 'planting': 0.005886860790784388,\n",
       " '33': 0.0067929077972523205,\n",
       " 'julyseptember': 0.002782532150054327,\n",
       " 'indian': 0.002782532150054327,\n",
       " 'express': 0.002782532150054327,\n",
       " 'found': 0.002782532150054327,\n",
       " 'nonforest': 0.002782532150054327,\n",
       " 'agency': 0.004605438910159437,\n",
       " 'gram': 0.004605438910159437,\n",
       " 'panchayat': 0.004605438910159437,\n",
       " 'tasked': 0.002782532150054327,\n",
       " 'uploaded': 0.004605438910159437,\n",
       " 'mandatory': 0.002782532150054327,\n",
       " 'audiovisual': 0.002782532150054327,\n",
       " 'proof': 0.002782532150054327,\n",
       " 'plantation': 0.007651951214596573,\n",
       " 'specially': 0.002782532150054327,\n",
       " 'created': 0.004605438910159437,\n",
       " 'portal': 0.002782532150054327,\n",
       " 'pune': 0.0074123711764342735,\n",
       " 'revenue': 0.002782532150054327,\n",
       " 'division': 0.005886860790784388,\n",
       " 'planted': 0.0067929077972523205,\n",
       " '17': 0.004605438910159437,\n",
       " 'sapling': 0.007901835565681945,\n",
       " 'however': 0.004605438910159437,\n",
       " 'evidence': 0.002782532150054327,\n",
       " '87': 0.002782532150054327,\n",
       " 'per': 0.002782532150054327,\n",
       " 'cent': 0.002782532150054327,\n",
       " '149': 0.002782532150054327,\n",
       " 'also': 0.002782532150054327,\n",
       " '59': 0.002782532150054327,\n",
       " 'involved': 0.002782532150054327,\n",
       " 'many': 0.002782532150054327,\n",
       " '38': 0.002782532150054327,\n",
       " 'submitted': 0.002782532150054327,\n",
       " 'survival': 0.002782532150054327,\n",
       " 'report': 0.002782532150054327,\n",
       " 'year': 0.0074123711764342735,\n",
       " 'set': 0.0067929077972523205,\n",
       " 'comparatively': 0.002782532150054327,\n",
       " 'modest': 0.002782532150054327,\n",
       " 'example': 0.002782532150054327,\n",
       " 'circle': 0.004605438910159437,\n",
       " 'comprises': 0.004605438910159437,\n",
       " 'three': 0.004605438910159437,\n",
       " 'solapur': 0.002782532150054327,\n",
       " 'district': 0.002782532150054327,\n",
       " 'planned': 0.002782532150054327,\n",
       " 'lakh': 0.005886860790784388,\n",
       " 'land': 0.004605438910159437,\n",
       " 'may': 0.002782532150054327,\n",
       " 'meet': 0.002782532150054327,\n",
       " 'due': 0.002782532150054327,\n",
       " 'unavailability': 0.002782532150054327,\n",
       " 'fund': 0.002782532150054327,\n",
       " 'last': 0.002782532150054327,\n",
       " '70': 0.002782532150054327,\n",
       " 'six': 0.002782532150054327,\n",
       " 'talukas': 0.002782532150054327,\n",
       " 'namely': 0.002782532150054327,\n",
       " 'maval': 0.002782532150054327,\n",
       " 'mulshi': 0.002782532150054327,\n",
       " 'daund': 0.002782532150054327,\n",
       " 'indapur': 0.002782532150054327,\n",
       " 'baramati': 0.002782532150054327,\n",
       " 'havveli': 0.002782532150054327,\n",
       " 'preparation': 0.002782532150054327,\n",
       " 'done': 0.002782532150054327,\n",
       " '4': 0.0067929077972523205,\n",
       " 'special': 0.002782532150054327,\n",
       " 'emphasis': 0.002782532150054327,\n",
       " 'teakwood': 0.002782532150054327,\n",
       " 'national': 0.004605438910159437,\n",
       " 'policy': 0.002782532150054327,\n",
       " 'emphasizes': 0.002782532150054327,\n",
       " 'maintaining': 0.002782532150054327,\n",
       " 'country': 0.002782532150054327,\n",
       " 'geographical': 0.002782532150054327,\n",
       " 'area': 0.002782532150054327,\n",
       " 'cover': 0.002782532150054327,\n",
       " 'view': 0.002782532150054327,\n",
       " 'part': 0.002782532150054327,\n",
       " 'programme': 0.004605438910159437,\n",
       " 'within': 0.002782532150054327,\n",
       " '1st': 0.0067929077972523205,\n",
       " 'july': 0.0078003474886048346,\n",
       " '7th': 0.005886860790784388,\n",
       " '2017': 0.005886860790784388,\n",
       " 'celebrate': 0.002782532150054327,\n",
       " 'vanmohotsav': 0.004605438910159437,\n",
       " 'announced': 0.002782532150054327,\n",
       " '2': 0.002782532150054327,\n",
       " 'resounding': 0.002782532150054327,\n",
       " 'success': 0.002782532150054327,\n",
       " 'final': 0.002782532150054327,\n",
       " 'total': 0.002782532150054327,\n",
       " 'reported': 0.002782532150054327,\n",
       " 'figure': 0.002782532150054327,\n",
       " '282': 0.002782532150054327,\n",
       " 'single': 0.002782532150054327,\n",
       " 'day': 0.002782532150054327,\n",
       " 'maintain': 0.002782532150054327,\n",
       " 'consistency': 0.002782532150054327,\n",
       " 'platform': 0.002782532150054327,\n",
       " 'without': 0.002782532150054327,\n",
       " 'affecting': 0.002782532150054327,\n",
       " 'momentum': 0.002782532150054327,\n",
       " '13': 0.002782532150054327,\n",
       " 'mission': 0.002782532150054327,\n",
       " 'shall': 0.002782532150054327,\n",
       " 'accomplished': 0.002782532150054327,\n",
       " 'consecutive': 0.002782532150054327,\n",
       " 'viz': 0.002782532150054327,\n",
       " '2018': 0.002782532150054327,\n",
       " 'statewide': 0.002782532150054327,\n",
       " 'involvement': 0.002782532150054327,\n",
       " 'along': 0.002782532150054327,\n",
       " 'student': 0.002782532150054327,\n",
       " 'school': 0.002782532150054327,\n",
       " 'college': 0.002782532150054327,\n",
       " 'n': 0.002782532150054327,\n",
       " 'ncc': 0.002782532150054327,\n",
       " 'csr': 0.002782532150054327,\n",
       " 'ngo': 0.002782532150054327,\n",
       " 'railway': 0.002782532150054327,\n",
       " 'highway': 0.002782532150054327,\n",
       " 'defence': 0.002782532150054327,\n",
       " 'nabard': 0.002782532150054327,\n",
       " 'stakeholder': 0.004605438910159437,\n",
       " 'society': 0.004605438910159437,\n",
       " 'first': 0.002782532150054327,\n",
       " 'kind': 0.002782532150054327,\n",
       " '24hour': 0.002782532150054327,\n",
       " 'toll': 0.002782532150054327,\n",
       " 'free': 0.002782532150054327,\n",
       " 'helpline': 0.002782532150054327,\n",
       " 'number': 0.004605438910159437,\n",
       " '1926': 0.002782532150054327,\n",
       " 'called': 0.004605438910159437,\n",
       " 'hello': 0.002782532150054327,\n",
       " 'provide': 0.002782532150054327,\n",
       " 'information': 0.002782532150054327,\n",
       " 'regarding': 0.002782532150054327,\n",
       " 'protection': 0.004605438910159437,\n",
       " 'mass': 0.002782532150054327,\n",
       " 'awareness': 0.002782532150054327,\n",
       " 'mobile': 0.002782532150054327,\n",
       " 'application': 0.005886860790784388,\n",
       " 'record': 0.004605438910159437,\n",
       " 'detail': 0.002782532150054327,\n",
       " 'specie': 0.002782532150054327,\n",
       " 'location': 0.002782532150054327,\n",
       " 'computer': 0.002782532150054327,\n",
       " 'system': 0.002782532150054327,\n",
       " 'volunteer': 0.004605438910159437,\n",
       " 'individual': 0.004605438910159437,\n",
       " 'collective': 0.002782532150054327,\n",
       " 'organizational': 0.002782532150054327,\n",
       " 'level': 0.002782532150054327,\n",
       " 'download': 0.002782532150054327,\n",
       " 'use': 0.002782532150054327,\n",
       " 'work': 0.002782532150054327,\n",
       " 'operational': 0.002782532150054327,\n",
       " 'consonance': 0.002782532150054327,\n",
       " 'public': 0.004605438910159437,\n",
       " 'participation': 0.004605438910159437,\n",
       " 'initiated': 0.002782532150054327,\n",
       " 'harit': 0.002782532150054327,\n",
       " 'sena': 0.002782532150054327,\n",
       " 'army': 0.004605438910159437,\n",
       " 'body': 0.002782532150054327,\n",
       " 'dedicated': 0.002782532150054327,\n",
       " 'participate': 0.002782532150054327,\n",
       " 'activity': 0.002782532150054327,\n",
       " 'wildlife': 0.002782532150054327,\n",
       " 'related': 0.002782532150054327,\n",
       " 'sector': 0.002782532150054327,\n",
       " 'around': 0.002782532150054327,\n",
       " 'organisation': 0.002782532150054327,\n",
       " 'interested': 0.002782532150054327,\n",
       " 'volunteering': 0.002782532150054327,\n",
       " 'register': 0.002782532150054327,\n",
       " 'website': 0.002782532150054327,\n",
       " 'wwwgreenarmymahaforestgovin': 0.002782532150054327,\n",
       " 'integrated': 0.002782532150054327,\n",
       " 'place': 0.002782532150054327,\n",
       " 'ensure': 0.002782532150054327,\n",
       " 'seamless': 0.002782532150054327,\n",
       " 'successful': 0.002782532150054327,\n",
       " 'especially': 0.002782532150054327}"
      ]
     },
     "execution_count": 24,
     "metadata": {},
     "output_type": "execute_result"
    }
   ],
   "source": [
    "tfidf=tfidff(tf,idf)\n",
    "tfidf"
   ]
  },
  {
   "cell_type": "code",
   "execution_count": null,
   "id": "5fb2b96e",
   "metadata": {},
   "outputs": [],
   "source": []
  }
 ],
 "metadata": {
  "kernelspec": {
   "display_name": "Python 3 (ipykernel)",
   "language": "python",
   "name": "python3"
  },
  "language_info": {
   "codemirror_mode": {
    "name": "ipython",
    "version": 3
   },
   "file_extension": ".py",
   "mimetype": "text/x-python",
   "name": "python",
   "nbconvert_exporter": "python",
   "pygments_lexer": "ipython3",
   "version": "3.9.7"
  }
 },
 "nbformat": 4,
 "nbformat_minor": 5
}
